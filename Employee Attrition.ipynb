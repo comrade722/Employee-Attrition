{
 "cells": [
  {
   "cell_type": "code",
   "execution_count": 1,
   "id": "6f948f56",
   "metadata": {},
   "outputs": [],
   "source": [
    "import numpy as np \n",
    "import pandas as pd \n",
    "import seaborn as sns\n",
    "import matplotlib.pyplot as plt"
   ]
  },
  {
   "cell_type": "code",
   "execution_count": 2,
   "id": "10824381",
   "metadata": {},
   "outputs": [
    {
     "data": {
      "text/html": [
       "<div>\n",
       "<style scoped>\n",
       "    .dataframe tbody tr th:only-of-type {\n",
       "        vertical-align: middle;\n",
       "    }\n",
       "\n",
       "    .dataframe tbody tr th {\n",
       "        vertical-align: top;\n",
       "    }\n",
       "\n",
       "    .dataframe thead th {\n",
       "        text-align: right;\n",
       "    }\n",
       "</style>\n",
       "<table border=\"1\" class=\"dataframe\">\n",
       "  <thead>\n",
       "    <tr style=\"text-align: right;\">\n",
       "      <th></th>\n",
       "      <th>Id</th>\n",
       "      <th>Age</th>\n",
       "      <th>Attrition</th>\n",
       "      <th>BusinessTravel</th>\n",
       "      <th>Department</th>\n",
       "      <th>DistanceFromHome</th>\n",
       "      <th>Education</th>\n",
       "      <th>EducationField</th>\n",
       "      <th>EmployeeNumber</th>\n",
       "      <th>EnvironmentSatisfaction</th>\n",
       "      <th>...</th>\n",
       "      <th>PerformanceRating</th>\n",
       "      <th>StockOptionLevel</th>\n",
       "      <th>TotalWorkingYears</th>\n",
       "      <th>TrainingTimesLastYear</th>\n",
       "      <th>YearsAtCompany</th>\n",
       "      <th>YearsInCurrentRole</th>\n",
       "      <th>YearsSinceLastPromotion</th>\n",
       "      <th>YearsWithCurrManager</th>\n",
       "      <th>CommunicationSkill</th>\n",
       "      <th>Behaviour</th>\n",
       "    </tr>\n",
       "  </thead>\n",
       "  <tbody>\n",
       "    <tr>\n",
       "      <th>0</th>\n",
       "      <td>1</td>\n",
       "      <td>30</td>\n",
       "      <td>0</td>\n",
       "      <td>Non-Travel</td>\n",
       "      <td>Research &amp; Development</td>\n",
       "      <td>2</td>\n",
       "      <td>3</td>\n",
       "      <td>Medical</td>\n",
       "      <td>571</td>\n",
       "      <td>3</td>\n",
       "      <td>...</td>\n",
       "      <td>3</td>\n",
       "      <td>0</td>\n",
       "      <td>12</td>\n",
       "      <td>2</td>\n",
       "      <td>11</td>\n",
       "      <td>7</td>\n",
       "      <td>6</td>\n",
       "      <td>7</td>\n",
       "      <td>4</td>\n",
       "      <td>1</td>\n",
       "    </tr>\n",
       "    <tr>\n",
       "      <th>1</th>\n",
       "      <td>2</td>\n",
       "      <td>36</td>\n",
       "      <td>0</td>\n",
       "      <td>Travel_Rarely</td>\n",
       "      <td>Research &amp; Development</td>\n",
       "      <td>12</td>\n",
       "      <td>4</td>\n",
       "      <td>Life Sciences</td>\n",
       "      <td>1614</td>\n",
       "      <td>3</td>\n",
       "      <td>...</td>\n",
       "      <td>3</td>\n",
       "      <td>2</td>\n",
       "      <td>7</td>\n",
       "      <td>2</td>\n",
       "      <td>3</td>\n",
       "      <td>2</td>\n",
       "      <td>1</td>\n",
       "      <td>1</td>\n",
       "      <td>2</td>\n",
       "      <td>1</td>\n",
       "    </tr>\n",
       "    <tr>\n",
       "      <th>2</th>\n",
       "      <td>3</td>\n",
       "      <td>55</td>\n",
       "      <td>1</td>\n",
       "      <td>Travel_Rarely</td>\n",
       "      <td>Sales</td>\n",
       "      <td>2</td>\n",
       "      <td>1</td>\n",
       "      <td>Medical</td>\n",
       "      <td>842</td>\n",
       "      <td>3</td>\n",
       "      <td>...</td>\n",
       "      <td>3</td>\n",
       "      <td>0</td>\n",
       "      <td>12</td>\n",
       "      <td>3</td>\n",
       "      <td>9</td>\n",
       "      <td>7</td>\n",
       "      <td>7</td>\n",
       "      <td>3</td>\n",
       "      <td>5</td>\n",
       "      <td>1</td>\n",
       "    </tr>\n",
       "    <tr>\n",
       "      <th>3</th>\n",
       "      <td>4</td>\n",
       "      <td>39</td>\n",
       "      <td>0</td>\n",
       "      <td>Travel_Rarely</td>\n",
       "      <td>Research &amp; Development</td>\n",
       "      <td>24</td>\n",
       "      <td>1</td>\n",
       "      <td>Life Sciences</td>\n",
       "      <td>2014</td>\n",
       "      <td>1</td>\n",
       "      <td>...</td>\n",
       "      <td>3</td>\n",
       "      <td>0</td>\n",
       "      <td>18</td>\n",
       "      <td>2</td>\n",
       "      <td>7</td>\n",
       "      <td>7</td>\n",
       "      <td>1</td>\n",
       "      <td>7</td>\n",
       "      <td>4</td>\n",
       "      <td>1</td>\n",
       "    </tr>\n",
       "    <tr>\n",
       "      <th>4</th>\n",
       "      <td>5</td>\n",
       "      <td>37</td>\n",
       "      <td>0</td>\n",
       "      <td>Travel_Rarely</td>\n",
       "      <td>Research &amp; Development</td>\n",
       "      <td>3</td>\n",
       "      <td>3</td>\n",
       "      <td>Other</td>\n",
       "      <td>689</td>\n",
       "      <td>3</td>\n",
       "      <td>...</td>\n",
       "      <td>3</td>\n",
       "      <td>1</td>\n",
       "      <td>10</td>\n",
       "      <td>2</td>\n",
       "      <td>10</td>\n",
       "      <td>7</td>\n",
       "      <td>7</td>\n",
       "      <td>8</td>\n",
       "      <td>1</td>\n",
       "      <td>1</td>\n",
       "    </tr>\n",
       "  </tbody>\n",
       "</table>\n",
       "<p>5 rows × 29 columns</p>\n",
       "</div>"
      ],
      "text/plain": [
       "   Id  Age  Attrition BusinessTravel              Department  \\\n",
       "0   1   30          0     Non-Travel  Research & Development   \n",
       "1   2   36          0  Travel_Rarely  Research & Development   \n",
       "2   3   55          1  Travel_Rarely                   Sales   \n",
       "3   4   39          0  Travel_Rarely  Research & Development   \n",
       "4   5   37          0  Travel_Rarely  Research & Development   \n",
       "\n",
       "   DistanceFromHome  Education EducationField  EmployeeNumber  \\\n",
       "0                 2          3        Medical             571   \n",
       "1                12          4  Life Sciences            1614   \n",
       "2                 2          1        Medical             842   \n",
       "3                24          1  Life Sciences            2014   \n",
       "4                 3          3          Other             689   \n",
       "\n",
       "   EnvironmentSatisfaction  ... PerformanceRating  StockOptionLevel  \\\n",
       "0                        3  ...                 3                 0   \n",
       "1                        3  ...                 3                 2   \n",
       "2                        3  ...                 3                 0   \n",
       "3                        1  ...                 3                 0   \n",
       "4                        3  ...                 3                 1   \n",
       "\n",
       "  TotalWorkingYears  TrainingTimesLastYear YearsAtCompany  YearsInCurrentRole  \\\n",
       "0                12                      2             11                   7   \n",
       "1                 7                      2              3                   2   \n",
       "2                12                      3              9                   7   \n",
       "3                18                      2              7                   7   \n",
       "4                10                      2             10                   7   \n",
       "\n",
       "   YearsSinceLastPromotion YearsWithCurrManager  CommunicationSkill  Behaviour  \n",
       "0                        6                    7                   4          1  \n",
       "1                        1                    1                   2          1  \n",
       "2                        7                    3                   5          1  \n",
       "3                        1                    7                   4          1  \n",
       "4                        7                    8                   1          1  \n",
       "\n",
       "[5 rows x 29 columns]"
      ]
     },
     "execution_count": 2,
     "metadata": {},
     "output_type": "execute_result"
    }
   ],
   "source": [
    "X = pd.read_csv(r\"C:\\Users\\User\\Desktop\\train.csv\")\n",
    "X_test = pd.read_csv(r\"C:\\Users\\User\\Desktop\\test.csv\")\n",
    "X.head()"
   ]
  },
  {
   "cell_type": "code",
   "execution_count": 3,
   "id": "e4f52d12",
   "metadata": {},
   "outputs": [],
   "source": [
    "y = X['Attrition']\n",
    "X.drop(['Attrition'], axis =1, inplace=True)"
   ]
  },
  {
   "cell_type": "code",
   "execution_count": 4,
   "id": "ee71db30",
   "metadata": {},
   "outputs": [],
   "source": [
    "from sklearn.model_selection import train_test_split\n",
    "X.drop(columns='Id',inplace=True)\n",
    "X_train, X_valid, y_train, y_valid = train_test_split(X,y,test_size=0.3,random_state=42)"
   ]
  },
  {
   "cell_type": "code",
   "execution_count": 5,
   "id": "44d42539",
   "metadata": {},
   "outputs": [
    {
     "data": {
      "text/plain": [
       "{'BusinessTravel': ['Travel_Frequently', 'Non-Travel', 'Travel_Rarely'],\n",
       " 'Department': ['Sales', 'Research & Development', 'Human Resources'],\n",
       " 'EducationField': ['Life Sciences',\n",
       "  'Medical',\n",
       "  'Other',\n",
       "  'Technical Degree',\n",
       "  'Marketing',\n",
       "  'Human Resources'],\n",
       " 'Gender': ['Male', 'Female'],\n",
       " 'JobRole': ['Sales Executive',\n",
       "  'Research Scientist',\n",
       "  'Laboratory Technician',\n",
       "  'Manager',\n",
       "  'Manufacturing Director',\n",
       "  'Sales Representative',\n",
       "  'Healthcare Representative',\n",
       "  'Human Resources',\n",
       "  'Research Director'],\n",
       " 'MaritalStatus': ['Divorced', 'Single', 'Married'],\n",
       " 'OverTime': ['No', 'Yes']}"
      ]
     },
     "execution_count": 5,
     "metadata": {},
     "output_type": "execute_result"
    }
   ],
   "source": [
    "obj_dict_train={obj_col: list(X_train[obj_col].unique()) for obj_col in X_train.select_dtypes(include='object')}\n",
    "obj_dict_train"
   ]
  },
  {
   "cell_type": "code",
   "execution_count": 6,
   "id": "bd5d8c09",
   "metadata": {},
   "outputs": [
    {
     "data": {
      "text/plain": [
       "{'BusinessTravel': ['Travel_Frequently', 'Travel_Rarely', 'Non-Travel'],\n",
       " 'Department': ['Sales', 'Research & Development', 'Human Resources'],\n",
       " 'EducationField': ['Life Sciences',\n",
       "  'Technical Degree',\n",
       "  'Medical',\n",
       "  'Other',\n",
       "  'Marketing',\n",
       "  'Human Resources'],\n",
       " 'Gender': ['Female', 'Male'],\n",
       " 'JobRole': ['Sales Representative',\n",
       "  'Laboratory Technician',\n",
       "  'Sales Executive',\n",
       "  'Research Scientist',\n",
       "  'Manufacturing Director',\n",
       "  'Research Director',\n",
       "  'Human Resources',\n",
       "  'Manager',\n",
       "  'Healthcare Representative'],\n",
       " 'MaritalStatus': ['Single', 'Married', 'Divorced'],\n",
       " 'OverTime': ['Yes', 'No']}"
      ]
     },
     "execution_count": 6,
     "metadata": {},
     "output_type": "execute_result"
    }
   ],
   "source": [
    "obj_dict_valid={obj_col: list(X_valid[obj_col].unique()) for obj_col in X_valid.select_dtypes(include='object')}\n",
    "obj_dict_valid"
   ]
  },
  {
   "cell_type": "code",
   "execution_count": 7,
   "id": "c048192f",
   "metadata": {},
   "outputs": [],
   "source": [
    "label_col = ['BusinessTravel', 'OverTime']     \n",
    "hotencode_col = list(set(X.select_dtypes(include='object').columns)-set(label_col))  "
   ]
  },
  {
   "cell_type": "code",
   "execution_count": 8,
   "id": "b37244ab",
   "metadata": {},
   "outputs": [],
   "source": [
    "X_train = pd.concat([X_train, pd.get_dummies(X_train[hotencode_col])], axis=1)\n",
    "X_valid = pd.concat([X_valid, pd.get_dummies(X_valid[hotencode_col])], axis=1)\n",
    "X_train.drop(hotencode_col, axis=1, inplace=True)\n",
    "X_valid.drop(hotencode_col,axis=1,inplace=True)\n",
    "\n",
    "X_test = pd.concat([X_test, pd.get_dummies(X_test[hotencode_col])], axis=1)\n",
    "X_test.drop(hotencode_col, axis=1, inplace=True)"
   ]
  },
  {
   "cell_type": "code",
   "execution_count": 9,
   "id": "c32bccbb",
   "metadata": {},
   "outputs": [],
   "source": [
    "cat1 = pd.Categorical(X_train.BusinessTravel, categories=['Non-Travel', 'Travel_Rarely', 'Travel_Frequently'], ordered=True)\n",
    "labels1, unique1 = pd.factorize(cat1, sort=True)\n",
    "X_train['BusinessTravel'] = labels1\n",
    "\n",
    "cat2 = pd.Categorical(X_train.OverTime, categories=['No','Yes'], ordered=True)\n",
    "labels2, unique2 = pd.factorize(cat2, sort=True)\n",
    "X_train['OverTime'] = labels2\n",
    "\n",
    "cat_1 = pd.Categorical(X_valid.BusinessTravel, categories=['Non-Travel', 'Travel_Rarely', 'Travel_Frequently'], ordered=True)\n",
    "labels_1, unique_1 = pd.factorize(cat_1, sort=True)\n",
    "X_valid['BusinessTravel'] = labels_1\n",
    "\n",
    "cat_2 = pd.Categorical(X_valid.OverTime, categories=['No','Yes'], ordered=True)\n",
    "labels_2, unique_2 = pd.factorize(cat_2, sort=True)\n",
    "X_valid['OverTime'] = labels_2\n",
    "\n",
    "cat_test1 = pd.Categorical(X_test.BusinessTravel, categories=['Non-Travel', 'Travel_Rarely', 'Travel_Frequently'], ordered=True)\n",
    "labels_test1, unique_test1 = pd.factorize(cat_test1, sort=True)\n",
    "X_test['BusinessTravel'] = labels_test1\n",
    "\n",
    "cat_test2 = pd.Categorical(X_test.OverTime, categories=['No','Yes'], ordered=True)\n",
    "labels_test2, unique_test2 = pd.factorize(cat_test2, sort=True)\n",
    "X_test['OverTime'] = labels_test2"
   ]
  },
  {
   "cell_type": "code",
   "execution_count": 10,
   "id": "daec2f22",
   "metadata": {},
   "outputs": [
    {
     "data": {
      "text/plain": [
       "Age                                   43\n",
       "BusinessTravel                         3\n",
       "DistanceFromHome                      29\n",
       "Education                              5\n",
       "EmployeeNumber                       745\n",
       "EnvironmentSatisfaction                4\n",
       "JobInvolvement                         4\n",
       "JobSatisfaction                        4\n",
       "MonthlyIncome                        715\n",
       "NumCompaniesWorked                    10\n",
       "OverTime                               2\n",
       "PercentSalaryHike                     15\n",
       "PerformanceRating                      2\n",
       "StockOptionLevel                       4\n",
       "TotalWorkingYears                     39\n",
       "TrainingTimesLastYear                  7\n",
       "YearsAtCompany                        33\n",
       "YearsInCurrentRole                    19\n",
       "YearsSinceLastPromotion               16\n",
       "YearsWithCurrManager                  17\n",
       "CommunicationSkill                     5\n",
       "Behaviour                              1\n",
       "Department_Human Resources             2\n",
       "Department_Research & Development      2\n",
       "Department_Sales                       2\n",
       "Gender_Female                          2\n",
       "Gender_Male                            2\n",
       "JobRole_Healthcare Representative      2\n",
       "JobRole_Human Resources                2\n",
       "JobRole_Laboratory Technician          2\n",
       "JobRole_Manager                        2\n",
       "JobRole_Manufacturing Director         2\n",
       "JobRole_Research Director              2\n",
       "JobRole_Research Scientist             2\n",
       "JobRole_Sales Executive                2\n",
       "JobRole_Sales Representative           2\n",
       "EducationField_Human Resources         2\n",
       "EducationField_Life Sciences           2\n",
       "EducationField_Marketing               2\n",
       "EducationField_Medical                 2\n",
       "EducationField_Other                   2\n",
       "EducationField_Technical Degree        2\n",
       "MaritalStatus_Divorced                 2\n",
       "MaritalStatus_Married                  2\n",
       "MaritalStatus_Single                   2\n",
       "dtype: int64"
      ]
     },
     "execution_count": 10,
     "metadata": {},
     "output_type": "execute_result"
    }
   ],
   "source": [
    "X_train.nunique()"
   ]
  },
  {
   "cell_type": "code",
   "execution_count": 11,
   "id": "43387dfd",
   "metadata": {},
   "outputs": [],
   "source": [
    "num_cols = [col for col in X_train.columns if X_train[col].nunique()>5]"
   ]
  },
  {
   "cell_type": "code",
   "execution_count": 12,
   "id": "7bc2fcf4",
   "metadata": {},
   "outputs": [],
   "source": [
    "from sklearn.preprocessing import StandardScaler\n",
    "num_scaler = StandardScaler(copy=False)\n",
    "scaled_train = pd.DataFrame(num_scaler.fit_transform(X_train[num_cols]))\n",
    "scaled_valid = pd.DataFrame(num_scaler.transform(X_valid[num_cols]))\n",
    "scaled_test = pd.DataFrame(num_scaler.transform(X_test[num_cols]))\n",
    "scaled_test.columns  = num_cols\n",
    "scaled_train.columns = num_cols\n",
    "scaled_valid.columns = num_cols\n",
    "scaled_train.index=X_train.index\n",
    "scaled_valid.index=X_valid.index\n",
    "scaled_test.index=X_test.index"
   ]
  },
  {
   "cell_type": "code",
   "execution_count": 13,
   "id": "1f93aec7",
   "metadata": {},
   "outputs": [],
   "source": [
    "X_train.drop(columns = num_cols, inplace=True)\n",
    "X_valid.drop(columns = num_cols, inplace=True)\n",
    "X_test.drop(columns = num_cols, inplace =True)\n",
    "X_train = pd.concat([X_train, scaled_train], axis =1)\n",
    "X_valid = pd.concat([X_valid, scaled_valid], axis =1)\n",
    "X_test = pd.concat([X_test, scaled_test], axis =1)"
   ]
  },
  {
   "cell_type": "code",
   "execution_count": 14,
   "id": "f3dd8675",
   "metadata": {},
   "outputs": [
    {
     "data": {
      "image/png": "[encoded data removed]",
      "text/plain": [
       "<Figure size 792x792 with 2 Axes>"
      ]
     },
     "metadata": {
      "needs_background": "light"
     },
     "output_type": "display_data"
    }
   ],
   "source": [
    "data_pair = pd.concat([X_train[num_cols],y_train], axis=1)\n",
    "corr_matrix = data_pair.corr()\n",
    "cmap = sns.diverging_palette(300, 0, as_cmap=True)\n",
    "plt.figure(figsize=(11,11))\n",
    "sns.heatmap(corr_matrix, cmap=cmap, vmax=.3, center=0,\n",
    "            square=True, linewidths=.5, cbar_kws={\"shrink\": .5})\n",
    "plt.show()"
   ]
  },
  {
   "cell_type": "code",
   "execution_count": 15,
   "id": "f3f3fcca",
   "metadata": {},
   "outputs": [],
   "source": [
    "from sklearn.linear_model import LogisticRegression\n",
    "from sklearn.metrics import roc_auc_score,accuracy_score"
   ]
  },
  {
   "cell_type": "code",
   "execution_count": 16,
   "id": "3f561078",
   "metadata": {},
   "outputs": [],
   "source": [
    "num_iters=np.arange(200,501,50)\n",
    "C = np.arange(0.1,3,0.1, dtype=np.float32)\n",
    "arg=[]\n",
    "for i in C:\n",
    "    for j in num_iters: arg.append((j,i))\n"
   ]
  },
  {
   "cell_type": "code",
   "execution_count": 17,
   "id": "116559bd",
   "metadata": {},
   "outputs": [],
   "source": [
    "def model(arg):\n",
    "    num_iters = arg[0]\n",
    "    C=arg[1]\n",
    "    lr=LogisticRegression(solver='liblinear', max_iter=num_iters,C=C, verbose=0, random_state=7)\n",
    "    lr.fit(X_train,y_train)\n",
    "    predictions = lr.predict(X_valid)\n",
    "    return roc_auc_score(y_valid,predictions)"
   ]
  },
  {
   "cell_type": "code",
   "execution_count": 18,
   "id": "4f8543a3",
   "metadata": {},
   "outputs": [
    {
     "name": "stdout",
     "output_type": "stream",
     "text": [
      "C=0.10000000149011612, iterations=200 : 0.7778531925590749\n",
      "C=0.10000000149011612, iterations=250 : 0.7778531925590749\n",
      "C=0.10000000149011612, iterations=300 : 0.7778531925590749\n",
      "C=0.10000000149011612, iterations=350 : 0.7778531925590749\n",
      "C=0.10000000149011612, iterations=400 : 0.7778531925590749\n",
      "C=0.10000000149011612, iterations=450 : 0.7778531925590749\n",
      "C=0.10000000149011612, iterations=500 : 0.7778531925590749\n",
      "C=0.20000000298023224, iterations=200 : 0.7988687782805429\n",
      "C=0.20000000298023224, iterations=250 : 0.7988687782805429\n",
      "C=0.20000000298023224, iterations=300 : 0.7988687782805429\n",
      "C=0.20000000298023224, iterations=350 : 0.7988687782805429\n",
      "C=0.20000000298023224, iterations=400 : 0.7988687782805429\n",
      "C=0.20000000298023224, iterations=450 : 0.7988687782805429\n",
      "C=0.20000000298023224, iterations=500 : 0.7988687782805429\n",
      "C=0.30000001192092896, iterations=200 : 0.7988687782805429\n",
      "C=0.30000001192092896, iterations=250 : 0.7988687782805429\n",
      "C=0.30000001192092896, iterations=300 : 0.7988687782805429\n",
      "C=0.30000001192092896, iterations=350 : 0.7988687782805429\n",
      "C=0.30000001192092896, iterations=400 : 0.7988687782805429\n",
      "C=0.30000001192092896, iterations=450 : 0.7988687782805429\n",
      "C=0.30000001192092896, iterations=500 : 0.7988687782805429\n",
      "C=0.4000000059604645, iterations=200 : 0.7945952740070387\n",
      "C=0.4000000059604645, iterations=250 : 0.7945952740070387\n",
      "C=0.4000000059604645, iterations=300 : 0.7945952740070387\n",
      "C=0.4000000059604645, iterations=350 : 0.7945952740070387\n",
      "C=0.4000000059604645, iterations=400 : 0.7945952740070387\n",
      "C=0.4000000059604645, iterations=450 : 0.7945952740070387\n",
      "C=0.4000000059604645, iterations=500 : 0.7945952740070387\n",
      "C=0.5, iterations=200 : 0.7945952740070387\n",
      "C=0.5, iterations=250 : 0.7945952740070387\n",
      "C=0.5, iterations=300 : 0.7945952740070387\n",
      "C=0.5, iterations=350 : 0.7945952740070387\n",
      "C=0.5, iterations=400 : 0.7945952740070387\n",
      "C=0.5, iterations=450 : 0.7945952740070387\n",
      "C=0.5, iterations=500 : 0.7945952740070387\n",
      "C=0.6000000238418579, iterations=200 : 0.7947712418300653\n",
      "C=0.6000000238418579, iterations=250 : 0.7947712418300653\n",
      "C=0.6000000238418579, iterations=300 : 0.7947712418300653\n",
      "C=0.6000000238418579, iterations=350 : 0.7947712418300653\n",
      "C=0.6000000238418579, iterations=400 : 0.7947712418300653\n",
      "C=0.6000000238418579, iterations=450 : 0.7947712418300653\n",
      "C=0.6000000238418579, iterations=500 : 0.7947712418300653\n",
      "C=0.7000000476837158, iterations=200 : 0.7947712418300653\n",
      "C=0.7000000476837158, iterations=250 : 0.7947712418300653\n",
      "C=0.7000000476837158, iterations=300 : 0.7947712418300653\n",
      "C=0.7000000476837158, iterations=350 : 0.7947712418300653\n",
      "C=0.7000000476837158, iterations=400 : 0.7947712418300653\n",
      "C=0.7000000476837158, iterations=450 : 0.7947712418300653\n",
      "C=0.7000000476837158, iterations=500 : 0.7947712418300653\n",
      "C=0.800000011920929, iterations=200 : 0.7967320261437908\n",
      "C=0.800000011920929, iterations=250 : 0.7967320261437908\n",
      "C=0.800000011920929, iterations=300 : 0.7967320261437908\n",
      "C=0.800000011920929, iterations=350 : 0.7967320261437908\n",
      "C=0.800000011920929, iterations=400 : 0.7967320261437908\n",
      "C=0.800000011920929, iterations=450 : 0.7967320261437908\n",
      "C=0.800000011920929, iterations=500 : 0.7967320261437908\n",
      "C=0.9000000357627869, iterations=200 : 0.8006535947712418\n",
      "C=0.9000000357627869, iterations=250 : 0.8006535947712418\n",
      "C=0.9000000357627869, iterations=300 : 0.8006535947712418\n",
      "C=0.9000000357627869, iterations=350 : 0.8006535947712418\n",
      "C=0.9000000357627869, iterations=400 : 0.8006535947712418\n",
      "C=0.9000000357627869, iterations=450 : 0.8006535947712418\n",
      "C=0.9000000357627869, iterations=500 : 0.8006535947712418\n",
      "C=1.0, iterations=200 : 0.8006535947712418\n",
      "C=1.0, iterations=250 : 0.8006535947712418\n",
      "C=1.0, iterations=300 : 0.8006535947712418\n",
      "C=1.0, iterations=350 : 0.8006535947712418\n",
      "C=1.0, iterations=400 : 0.8006535947712418\n",
      "C=1.0, iterations=450 : 0.8006535947712418\n",
      "C=1.0, iterations=500 : 0.8006535947712418\n",
      "C=1.100000023841858, iterations=200 : 0.8006535947712418\n",
      "C=1.100000023841858, iterations=250 : 0.8006535947712418\n",
      "C=1.100000023841858, iterations=300 : 0.8006535947712418\n",
      "C=1.100000023841858, iterations=350 : 0.8006535947712418\n",
      "C=1.100000023841858, iterations=400 : 0.8006535947712418\n",
      "C=1.100000023841858, iterations=450 : 0.8006535947712418\n",
      "C=1.100000023841858, iterations=500 : 0.8006535947712418\n",
      "C=1.2000000476837158, iterations=200 : 0.8006535947712418\n",
      "C=1.2000000476837158, iterations=250 : 0.8006535947712418\n",
      "C=1.2000000476837158, iterations=300 : 0.8006535947712418\n",
      "C=1.2000000476837158, iterations=350 : 0.8006535947712418\n",
      "C=1.2000000476837158, iterations=400 : 0.8006535947712418\n",
      "C=1.2000000476837158, iterations=450 : 0.8006535947712418\n",
      "C=1.2000000476837158, iterations=500 : 0.8006535947712418\n",
      "C=1.3000000715255737, iterations=200 : 0.8006535947712418\n",
      "C=1.3000000715255737, iterations=250 : 0.8006535947712418\n",
      "C=1.3000000715255737, iterations=300 : 0.8006535947712418\n",
      "C=1.3000000715255737, iterations=350 : 0.8006535947712418\n",
      "C=1.3000000715255737, iterations=400 : 0.8006535947712418\n",
      "C=1.3000000715255737, iterations=450 : 0.8006535947712418\n",
      "C=1.3000000715255737, iterations=500 : 0.8006535947712418\n",
      "C=1.4000000953674316, iterations=200 : 0.7986928104575163\n",
      "C=1.4000000953674316, iterations=250 : 0.7986928104575163\n",
      "C=1.4000000953674316, iterations=300 : 0.7986928104575163\n",
      "C=1.4000000953674316, iterations=350 : 0.7986928104575163\n",
      "C=1.4000000953674316, iterations=400 : 0.7986928104575163\n",
      "C=1.4000000953674316, iterations=450 : 0.7986928104575163\n",
      "C=1.4000000953674316, iterations=500 : 0.7986928104575163\n",
      "C=1.5, iterations=200 : 0.7986928104575163\n",
      "C=1.5, iterations=250 : 0.7986928104575163\n",
      "C=1.5, iterations=300 : 0.7986928104575163\n",
      "C=1.5, iterations=350 : 0.7986928104575163\n",
      "C=1.5, iterations=400 : 0.7986928104575163\n",
      "C=1.5, iterations=450 : 0.7986928104575163\n",
      "C=1.5, iterations=500 : 0.7986928104575163\n",
      "C=1.600000023841858, iterations=200 : 0.8006535947712418\n",
      "C=1.600000023841858, iterations=250 : 0.8006535947712418\n",
      "C=1.600000023841858, iterations=300 : 0.8006535947712418\n",
      "C=1.600000023841858, iterations=350 : 0.8006535947712418\n",
      "C=1.600000023841858, iterations=400 : 0.8006535947712418\n",
      "C=1.600000023841858, iterations=450 : 0.8006535947712418\n",
      "C=1.600000023841858, iterations=500 : 0.8006535947712418\n",
      "C=1.7000000476837158, iterations=200 : 0.7986928104575163\n",
      "C=1.7000000476837158, iterations=250 : 0.7986928104575163\n",
      "C=1.7000000476837158, iterations=300 : 0.7986928104575163\n",
      "C=1.7000000476837158, iterations=350 : 0.7986928104575163\n",
      "C=1.7000000476837158, iterations=400 : 0.7986928104575163\n",
      "C=1.7000000476837158, iterations=450 : 0.7986928104575163\n",
      "C=1.7000000476837158, iterations=500 : 0.7986928104575163\n",
      "C=1.8000000715255737, iterations=200 : 0.7986928104575163\n",
      "C=1.8000000715255737, iterations=250 : 0.7986928104575163\n",
      "C=1.8000000715255737, iterations=300 : 0.7986928104575163\n",
      "C=1.8000000715255737, iterations=350 : 0.7986928104575163\n",
      "C=1.8000000715255737, iterations=400 : 0.7986928104575163\n",
      "C=1.8000000715255737, iterations=450 : 0.7986928104575163\n",
      "C=1.8000000715255737, iterations=500 : 0.7986928104575163\n",
      "C=1.9000000953674316, iterations=200 : 0.7967320261437908\n",
      "C=1.9000000953674316, iterations=250 : 0.7967320261437908\n",
      "C=1.9000000953674316, iterations=300 : 0.7967320261437908\n",
      "C=1.9000000953674316, iterations=350 : 0.7967320261437908\n",
      "C=1.9000000953674316, iterations=400 : 0.7967320261437908\n",
      "C=1.9000000953674316, iterations=450 : 0.7967320261437908\n",
      "C=1.9000000953674316, iterations=500 : 0.7967320261437908\n",
      "C=2.0, iterations=200 : 0.7967320261437908\n",
      "C=2.0, iterations=250 : 0.7967320261437908\n",
      "C=2.0, iterations=300 : 0.7967320261437908\n",
      "C=2.0, iterations=350 : 0.7967320261437908\n",
      "C=2.0, iterations=400 : 0.7967320261437908\n",
      "C=2.0, iterations=450 : 0.7967320261437908\n",
      "C=2.0, iterations=500 : 0.7967320261437908\n",
      "C=2.0999999046325684, iterations=200 : 0.7967320261437908\n",
      "C=2.0999999046325684, iterations=250 : 0.7967320261437908\n",
      "C=2.0999999046325684, iterations=300 : 0.7967320261437908\n",
      "C=2.0999999046325684, iterations=350 : 0.7967320261437908\n",
      "C=2.0999999046325684, iterations=400 : 0.7967320261437908\n",
      "C=2.0999999046325684, iterations=450 : 0.7967320261437908\n",
      "C=2.0999999046325684, iterations=500 : 0.7967320261437908\n",
      "C=2.200000047683716, iterations=200 : 0.7967320261437908\n",
      "C=2.200000047683716, iterations=250 : 0.7967320261437908\n",
      "C=2.200000047683716, iterations=300 : 0.7967320261437908\n",
      "C=2.200000047683716, iterations=350 : 0.7967320261437908\n",
      "C=2.200000047683716, iterations=400 : 0.7967320261437908\n",
      "C=2.200000047683716, iterations=450 : 0.7967320261437908\n",
      "C=2.200000047683716, iterations=500 : 0.7967320261437908\n",
      "C=2.299999952316284, iterations=200 : 0.7967320261437908\n",
      "C=2.299999952316284, iterations=250 : 0.7967320261437908\n",
      "C=2.299999952316284, iterations=300 : 0.7967320261437908\n",
      "C=2.299999952316284, iterations=350 : 0.7967320261437908\n",
      "C=2.299999952316284, iterations=400 : 0.7967320261437908\n",
      "C=2.299999952316284, iterations=450 : 0.7967320261437908\n"
     ]
    },
    {
     "name": "stdout",
     "output_type": "stream",
     "text": [
      "C=2.299999952316284, iterations=500 : 0.7967320261437908\n",
      "C=2.3999998569488525, iterations=200 : 0.7967320261437908\n",
      "C=2.3999998569488525, iterations=250 : 0.7967320261437908\n",
      "C=2.3999998569488525, iterations=300 : 0.7967320261437908\n",
      "C=2.3999998569488525, iterations=350 : 0.7967320261437908\n",
      "C=2.3999998569488525, iterations=400 : 0.7967320261437908\n",
      "C=2.3999998569488525, iterations=450 : 0.7967320261437908\n",
      "C=2.3999998569488525, iterations=500 : 0.7967320261437908\n",
      "C=2.5, iterations=200 : 0.7967320261437908\n",
      "C=2.5, iterations=250 : 0.7967320261437908\n",
      "C=2.5, iterations=300 : 0.7967320261437908\n",
      "C=2.5, iterations=350 : 0.7967320261437908\n",
      "C=2.5, iterations=400 : 0.7967320261437908\n",
      "C=2.5, iterations=450 : 0.7967320261437908\n",
      "C=2.5, iterations=500 : 0.7967320261437908\n",
      "C=2.5999999046325684, iterations=200 : 0.7967320261437908\n",
      "C=2.5999999046325684, iterations=250 : 0.7967320261437908\n",
      "C=2.5999999046325684, iterations=300 : 0.7967320261437908\n",
      "C=2.5999999046325684, iterations=350 : 0.7967320261437908\n",
      "C=2.5999999046325684, iterations=400 : 0.7967320261437908\n",
      "C=2.5999999046325684, iterations=450 : 0.7967320261437908\n",
      "C=2.5999999046325684, iterations=500 : 0.7967320261437908\n",
      "C=2.700000047683716, iterations=200 : 0.7967320261437908\n",
      "C=2.700000047683716, iterations=250 : 0.7967320261437908\n",
      "C=2.700000047683716, iterations=300 : 0.7967320261437908\n",
      "C=2.700000047683716, iterations=350 : 0.7967320261437908\n",
      "C=2.700000047683716, iterations=400 : 0.7967320261437908\n",
      "C=2.700000047683716, iterations=450 : 0.7967320261437908\n",
      "C=2.700000047683716, iterations=500 : 0.7967320261437908\n",
      "C=2.799999952316284, iterations=200 : 0.7967320261437908\n",
      "C=2.799999952316284, iterations=250 : 0.7967320261437908\n",
      "C=2.799999952316284, iterations=300 : 0.7967320261437908\n",
      "C=2.799999952316284, iterations=350 : 0.7967320261437908\n",
      "C=2.799999952316284, iterations=400 : 0.7967320261437908\n",
      "C=2.799999952316284, iterations=450 : 0.7967320261437908\n",
      "C=2.799999952316284, iterations=500 : 0.7967320261437908\n",
      "C=2.8999998569488525, iterations=200 : 0.7967320261437908\n",
      "C=2.8999998569488525, iterations=250 : 0.7967320261437908\n",
      "C=2.8999998569488525, iterations=300 : 0.7967320261437908\n",
      "C=2.8999998569488525, iterations=350 : 0.7967320261437908\n",
      "C=2.8999998569488525, iterations=400 : 0.7967320261437908\n",
      "C=2.8999998569488525, iterations=450 : 0.7967320261437908\n",
      "C=2.8999998569488525, iterations=500 : 0.7967320261437908\n"
     ]
    }
   ],
   "source": [
    "for params in arg:\n",
    "    score = model(params)\n",
    "    print(\"C={}, iterations={} : {}\".format(params[1],params[0],score))"
   ]
  },
  {
   "cell_type": "code",
   "execution_count": 19,
   "id": "726b171c",
   "metadata": {},
   "outputs": [
    {
     "data": {
      "text/plain": [
       "0.8717278364337189"
      ]
     },
     "execution_count": 19,
     "metadata": {},
     "output_type": "execute_result"
    }
   ],
   "source": [
    "lr_final = LogisticRegression( solver='liblinear',C=1.8, max_iter=300,random_state=7)\n",
    "lr_final.fit(X_train,y_train)\n",
    "pred_lr = lr_final.predict_proba(X_valid)[:,1]\n",
    "roc_auc_score(y_valid,pred_lr)"
   ]
  },
  {
   "cell_type": "code",
   "execution_count": 20,
   "id": "f378591e",
   "metadata": {},
   "outputs": [],
   "source": [
    "feature_weights = np.array(lr_final.coef_).reshape(-1)"
   ]
  },
  {
   "cell_type": "code",
   "execution_count": 21,
   "id": "2b77e470",
   "metadata": {},
   "outputs": [
    {
     "data": {
      "image/png": "[encoded data removed]",
      "text/plain": [
       "<Figure size 1008x1152 with 1 Axes>"
      ]
     },
     "metadata": {
      "needs_background": "light"
     },
     "output_type": "display_data"
    }
   ],
   "source": [
    "feature_val = pd.DataFrame({'features':X_train.columns, 'weights':feature_weights})\n",
    "feature_val.sort_values(by='weights', ascending=False, inplace=True)\n",
    "plt.figure(figsize=(14,16))\n",
    "sns.barplot(y='features',x='weights',data=feature_val,color='blue')\n",
    "plt.show()"
   ]
  },
  {
   "cell_type": "code",
   "execution_count": 22,
   "id": "90f98efe",
   "metadata": {},
   "outputs": [
    {
     "data": {
      "text/plain": [
       "['PercentSalaryHike',\n",
       " 'YearsAtCompany',\n",
       " 'MaritalStatus_Divorced',\n",
       " 'EmployeeNumber',\n",
       " 'Education',\n",
       " 'MaritalStatus_Married']"
      ]
     },
     "execution_count": 22,
     "metadata": {},
     "output_type": "execute_result"
    }
   ],
   "source": [
    "less_weight_cols= feature_val[abs(feature_val.weights)<0.1].features.to_list()\n",
    "less_weight_cols"
   ]
  },
  {
   "cell_type": "code",
   "execution_count": 24,
   "id": "bf2297d1",
   "metadata": {},
   "outputs": [],
   "source": [
    "X_train.drop(columns=less_weight_cols,inplace=True)\n",
    "\n",
    "X_test.drop(columns=less_weight_cols,inplace=True)"
   ]
  },
  {
   "cell_type": "code",
   "execution_count": 25,
   "id": "88b336f3",
   "metadata": {},
   "outputs": [
    {
     "data": {
      "text/plain": [
       "LogisticRegression(C=1.8, max_iter=300, random_state=7, solver='liblinear')"
      ]
     },
     "execution_count": 25,
     "metadata": {},
     "output_type": "execute_result"
    }
   ],
   "source": [
    "lr_final.fit(X_train,y_train)\n",
    "lr_final"
   ]
  },
  {
   "cell_type": "code",
   "execution_count": 26,
   "id": "0e42d050",
   "metadata": {},
   "outputs": [],
   "source": [
    "final_pred = lr_final.predict_proba(X_test.drop(columns='Id'))[:,1]\n",
    "output = pd.concat([X_test.Id,pd.Series(final_pred)], axis=1)\n",
    "output.columns=['Id','Attrition']\n",
    "output.set_index('Id')\n",
    "output.to_csv(\"submission.csv\",index=False)"
   ]
  },
  {
   "cell_type": "code",
   "execution_count": null,
   "id": "514f96bb",
   "metadata": {},
   "outputs": [],
   "source": []
  }
 ],
 "metadata": {
  "kernelspec": {
   "display_name": "Python 3",
   "language": "python",
   "name": "python3"
  },
  "language_info": {
   "codemirror_mode": {
    "name": "ipython",
    "version": 3
   },
   "file_extension": ".py",
   "mimetype": "text/x-python",
   "name": "python",
   "nbconvert_exporter": "python",
   "pygments_lexer": "ipython3",
   "version": "3.7.10"
  }
 },
 "nbformat": 4,
 "nbformat_minor": 5
}
